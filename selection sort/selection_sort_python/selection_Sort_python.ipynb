{
 "cells": [
  {
   "cell_type": "markdown",
   "metadata": {
    "id": "l8rPQJR9gWqR"
   },
   "source": [
    "# Generacion de files txt"
   ]
  },
  {
   "cell_type": "code",
   "execution_count": 18,
   "metadata": {
    "id": "yCRM3lBtcio5"
   },
   "outputs": [],
   "source": [
    "from random import randint\n",
    "import json\n",
    "\n",
    "u=100\n",
    "numero_aleatorios = [randint(1,100) for _ in range(u)]\n",
    "a = numero_aleatorios\n",
    "with open('File_100.txt', 'w') as f:\n",
    "    f.write(json.dumps(a))\n",
    "u=500\n",
    "numero_aleatorios = [randint(1,100) for _ in range(u)]\n",
    "a = numero_aleatorios\n",
    "with open('File_500.txt', 'w') as f:\n",
    "    f.write(json.dumps(a))\n",
    "u=1000\n",
    "while u < 10000:\n",
    "\n",
    "  if u>=1000 and u<10000:\n",
    "    numero_aleatorios = [randint(1,100) for _ in range(u)]\n",
    "    files=\"File_\"\n",
    "    num=str(u)\n",
    "    ext=\".txt\"\n",
    "    mi_path = files+num+ext\n",
    "    with open(mi_path, 'w') as f:\n",
    "      f.write(json.dumps(numero_aleatorios))\n",
    "    f.close()\n",
    "    numero_aleatorios=[]\n",
    "  u=u+1000\n",
    "\n",
    "while u <= 100000:\n",
    "  if u>=10000 and u<=100000:\n",
    "    numero_aleatorios = [randint(1,100) for _ in range(u)]\n",
    "    files=\"File_\"\n",
    "    num=str(u)\n",
    "    ext=\".txt\"\n",
    "    mi_path = files+num+ext\n",
    "    with open(mi_path, 'w') as f:\n",
    "      f.write(json.dumps(numero_aleatorios))\n",
    "    f.close()\n",
    "    numero_aleatorios=[]\n",
    "  u=u+10000\n"
   ]
  },
  {
   "cell_type": "markdown",
   "metadata": {
    "id": "QN1f5AUd0fSm"
   },
   "source": [
    "# ALgoritmo"
   ]
  },
  {
   "cell_type": "code",
   "execution_count": 1,
   "metadata": {
    "id": "p2qQHKUTBWzx"
   },
   "outputs": [],
   "source": [
    "# Python program for counting sort\n",
    "# which takes negative numbers as well\n",
    "\n",
    "def selectionSort(lista):\n",
    "    longitud = len(lista)\n",
    "    for i in range(longitud-1):\n",
    "        menor=i\n",
    "        for j in range(i+1,longitud):\n",
    "            if lista[j]<lista[menor]:\n",
    "                menor=j\n",
    "\n",
    "        temporal=lista[menor]\n",
    "        lista[menor]=lista[i]\n",
    "        lista[i]=temporal\n",
    "\n",
    "\n",
    "\n"
   ]
  },
  {
   "cell_type": "markdown",
   "metadata": {
    "id": "RARhthYz1Xw1"
   },
   "source": [
    "# Ejecucion"
   ]
  },
  {
   "cell_type": "code",
   "execution_count": 7,
   "metadata": {
    "colab": {
     "base_uri": "https://localhost:8080/"
    },
    "id": "xI3aD5yDGJYW",
    "outputId": "5cbf4176-a53b-47bd-ad16-6146420dd83f"
   },
   "outputs": [
    {
     "name": "stdout",
     "output_type": "stream",
     "text": [
      "File_100.txt\n",
      "100\n",
      "File_500.txt\n",
      "500\n",
      "File_1000.txt\n",
      "1000\n",
      "File_2000.txt\n",
      "2000\n",
      "File_3000.txt\n",
      "3000\n",
      "File_4000.txt\n",
      "4000\n",
      "File_5000.txt\n",
      "5000\n",
      "File_6000.txt\n",
      "6000\n",
      "File_7000.txt\n",
      "7000\n",
      "File_8000.txt\n",
      "8000\n",
      "File_9000.txt\n",
      "9000\n",
      "File_10000.txt\n",
      "10000\n",
      "File_20000.txt\n",
      "20000\n",
      "File_30000.txt\n",
      "30000\n",
      "File_40000.txt\n",
      "40000\n",
      "File_50000.txt\n",
      "50000\n",
      "File_60000.txt\n",
      "60000\n",
      "File_70000.txt\n",
      "70000\n",
      "File_80000.txt\n",
      "80000\n",
      "File_90000.txt\n",
      "90000\n",
      "File_100000.txt\n",
      "100000\n"
     ]
    }
   ],
   "source": [
    "import time\n",
    "import json\n",
    "u=100\n",
    "selectionSort_py=[]\n",
    "ordenado=[]\n",
    "\n",
    "files=\"File_\"\n",
    "ext=\".txt\"\n",
    "while u<=500:\n",
    "  num=str(u)\n",
    "  mi_path = files+num+ext\n",
    "  print(mi_path)\n",
    "  with open(mi_path, 'r') as f:\n",
    "      a = json.loads(f.read())\n",
    "  print(len(a))\n",
    "  #print(a)\n",
    "  inicio = time.time()\n",
    "  #ejecucion de algoritmo\n",
    "  ordenado.append(selectionSort(a))\n",
    "  fin = time.time()\n",
    "  #print(ordenado)\n",
    "  selectionSort_py.append(round((fin-inicio),3))\n",
    "  u=u+400\n",
    "\n",
    "u=1000\n",
    "while u <= 100000:\n",
    "  num=str(u)\n",
    "  mi_path = files+num+ext\n",
    "  print(mi_path)\n",
    "  with open(mi_path, 'r') as f:\n",
    "      a = json.loads(f.read())\n",
    "  print(len(a))\n",
    "  #print(a)\n",
    "  inicio = time.time()\n",
    "  #ejecucion de algoritmo\n",
    "  ordenado.append(selectionSort(a))\n",
    "  fin = time.time()\n",
    "  #print(ordenado)\n",
    "  selectionSort_py.append(round((fin-inicio),3))\n",
    "\n",
    "  if u>=1000 and u<10000:\n",
    "    u=u+1000\n",
    "  elif u>=10000 and u<=100000:\n",
    "    u=u+10000\n",
    "\n"
   ]
  },
  {
   "cell_type": "code",
   "execution_count": 21,
   "metadata": {
    "colab": {
     "base_uri": "https://localhost:8080/"
    },
    "id": "A90g8TK5Rg2G",
    "outputId": "161ece4a-4a66-49d0-faec-caa4bac19354"
   },
   "outputs": [
    {
     "name": "stdout",
     "output_type": "stream",
     "text": [
      "21\n"
     ]
    }
   ],
   "source": [
    "print(len(ordenado))"
   ]
  },
  {
   "cell_type": "markdown",
   "metadata": {
    "id": "U8lwX57Y_0f0"
   },
   "source": [
    "# Plot"
   ]
  },
  {
   "cell_type": "code",
   "execution_count": 8,
   "metadata": {
    "colab": {
     "base_uri": "https://localhost:8080/"
    },
    "id": "NLIt8HhtvXO_",
    "outputId": "2733f737-d312-4d30-bb31-0fbdd8f0a394",
    "scrolled": true
   },
   "outputs": [
    {
     "name": "stdout",
     "output_type": "stream",
     "text": [
      "[0.001, 0.016, 0.053, 0.101, 0.228, 0.403, 0.635, 0.883, 1.179, 1.569, 2.015, 2.422, 9.717, 21.756, 38.721, 61.365, 86.673, 119.499, 154.729, 200.887, 244.824]\n"
     ]
    }
   ],
   "source": [
    "print(selectionSort_py)"
   ]
  },
  {
   "cell_type": "code",
   "execution_count": 5,
   "metadata": {
    "id": "GBZWjMjEDiOP"
   },
   "outputs": [],
   "source": [
    "selectionSort_cc=[0,1,1,4,14,17,27,40,55,73,96,116,454,1027,1815,2862,4095,5589,7385,9494,12004]"
   ]
  },
  {
   "cell_type": "code",
   "execution_count": 26,
   "metadata": {
    "colab": {
     "base_uri": "https://localhost:8080/"
    },
    "id": "JOtfSWsaDzVv",
    "outputId": "ab3e4d09-7eaa-409a-c36a-8ec6bc5cd5d7"
   },
   "outputs": [
    {
     "name": "stdout",
     "output_type": "stream",
     "text": [
      "[0, 0, 0, 4, 10, 18, 29, 47, 58, 74, 93, 451, 1028, 1821, 2881, 4088, 5523, 7507, 9303, 11711]\n"
     ]
    }
   ],
   "source": [
    "print(selectionSort_cc)"
   ]
  },
  {
   "cell_type": "code",
   "execution_count": null,
   "metadata": {
    "colab": {
     "base_uri": "https://localhost:8080/",
     "height": 295
    },
    "id": "H-Yps-rt1iCy",
    "outputId": "f9849200-8f46-4eaf-abf5-89b4cf26a7c1"
   },
   "outputs": [],
   "source": [
    "from matplotlib import pyplot as plt\n",
    "plt.plot(selectionSort_py)\n",
    "plt.plot(selectionSort_py, label = \"line 1\")\n",
    "#plt.plot(tiempo_c)\n",
    "plt.plot(selectionSort_cc, label = \"line 2\")\n",
    "plt.title('Comparacion de algoritmos')\n",
    "plt.xlabel('Archivos')\n",
    "plt.ylabel('Tiempo de ejecucióón')\n",
    "#plt.show()"
   ]
  },
  {
   "cell_type": "code",
   "execution_count": 6,
   "metadata": {
    "id": "ZmtVVZck1iLm"
   },
   "outputs": [
    {
     "data": {
      "image/png": "[encoded data removed]",
      "text/plain": [
       "<Figure size 576x360 with 1 Axes>"
      ]
     },
     "metadata": {
      "needs_background": "light"
     },
     "output_type": "display_data"
    }
   ],
   "source": [
    "from matplotlib import pyplot as plt\n",
    "plt.figure(figsize=(8,5))\n",
    "x=[\"100\",\"500\",\"1000\",\"2000\",\"3000\",\"4000\",\"5000\",\"6000\",\"7000\",\"8000\",\"9000\",\"10000\",\"20000\",\"30000\",\"40000\",\"50000\",\"60000\",\"70000\",\"80000\",\"90000\",\"100000\"]\n",
    "plt.plot(selectionSort_py, label = \"Python\")\n",
    "plt.plot(selectionSort_cc, label = \"C++\")\n",
    "\n",
    "plt.legend()\n",
    "plt.title('Comparacion de los algoritmos de ordenamiento en Python')\n",
    "plt.xlabel('Archivos')\n",
    "plt.ylabel('Tiempo de ejecucióón')\n",
    "plt.xticks(range(len(x)), x, rotation=45)\n",
    "plt.savefig(\"countingSort.pdf\")\n",
    "plt.show()"
   ]
  },
  {
   "cell_type": "code",
   "execution_count": null,
   "metadata": {
    "id": "hf7L5fQjzBO9"
   },
   "outputs": [],
   "source": []
  }
 ],
 "metadata": {
  "colab": {
   "collapsed_sections": [],
   "name": "countingSort.ipynb",
   "provenance": [],
   "toc_visible": true
  },
  "kernelspec": {
   "display_name": "Python 3",
   "language": "python",
   "name": "python3"
  },
  "language_info": {
   "codemirror_mode": {
    "name": "ipython",
    "version": 3
   },
   "file_extension": ".py",
   "mimetype": "text/x-python",
   "name": "python",
   "nbconvert_exporter": "python",
   "pygments_lexer": "ipython3",
   "version": "3.8.5"
  }
 },
 "nbformat": 4,
 "nbformat_minor": 1
}
